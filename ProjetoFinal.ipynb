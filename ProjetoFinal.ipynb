{
 "cells": [
  {
   "cell_type": "markdown",
   "metadata": {},
   "source": [
    " ## Análise de dados do Spotify e Youtube\n",
    "\n",
    "## Integrantes: \n",
    "\n",
    "- Daniele Laís Reis da Silva\n",
    "- Geovanna Sandy \n",
    "- Matheus Bruno "
   ]
  },
  {
   "cell_type": "markdown",
   "metadata": {},
   "source": [
    "## Introdução\n",
    "\n",
    "#### Motivações e objetivos \n",
    "\n",
    "\n",
    "#### **Objetivo geral**\n",
    "\n",
    "- Apresentar e analiar os dados do Spotify e Youtube de forma a explorar várias formas da música utilizando variáveis como: Danceability, tempo(BPM), acousticness, instrumentalness, liveness, valence, views, likes e os demais apresentados ao decorrer do projeto para que ao final da análise exploratória, possamos obter informações coerentes, possíveis novidades e perguntas respondidas. \n",
    "\n",
    "#### **Objetivo específico**\n",
    "\n",
    "- Analisar de que forma a duração de uma música está relacionada com o número de streams que ela recebeu;\n",
    "- Descobrir se no geral, singles fazem mais sucesso do que álbuns;\n",
    "- Compreender se o fato de uma música ser considerada dançável tem ligação com o seu BPM;\n",
    "- Explicar se existe uma correlação entre o Speechiness e o Instrumentalness? Se sim, de que maneira ela se comporta;\n",
    "- Analisar a itensidade de uma música está, de alguma forma, relacionada com a sua energia;\n",
    "- Entender qual a correlação entre a \"dançabilidade\" de uma música e a sua valência;"
   ]
  },
  {
   "cell_type": "markdown",
   "metadata": {},
   "source": [
    "### Bibliotecas utilizadas"
   ]
  },
  {
   "cell_type": "code",
   "execution_count": null,
   "metadata": {
    "vscode": {
     "languageId": "plaintext"
    }
   },
   "outputs": [],
   "source": [
    "import pandas as pd\n",
    "import matplotlib.pyplot as plt\n",
    "import seaborn as sns\n",
    "from sklearn.cluster import KMeans"
   ]
  },
  {
   "cell_type": "markdown",
   "metadata": {},
   "source": [
    "## Dados manuseados\n",
    "\n",
    "Os dados foram obtidos no Kaggle e serviram como base para todo o projeto. Inclui 26 variáveis ​​para cada uma das músicas coletadas do Spotify. Sendo elas:\n",
    "\n",
    "**EDITAR : \n",
    "\n",
    "Faixa : nome da música, conforme visível na plataforma Spotify.\n",
    "Artista : nome do artista.\n",
    "Url_spotify : a URL do artista.\n",
    "Álbum : o álbum em que a música está contida no Spotify.\n",
    "Album_type : indica se a música foi lançada no Spotify como single ou contida em um álbum"
   ]
  }
 ],
 "metadata": {
  "language_info": {
   "name": "python"
  }
 },
 "nbformat": 4,
 "nbformat_minor": 2
}
